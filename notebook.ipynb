{
 "cells": [
  {
   "cell_type": "markdown",
   "id": "younger-education",
   "metadata": {},
   "source": [
    "This is the story all about how my life got flipped, turned upside-down"
   ]
  },
  {
   "cell_type": "code",
   "execution_count": null,
   "id": "fatty-stable",
   "metadata": {},
   "outputs": [],
   "source": [
    "#DD to delete cell\n",
    "#ESC to use command mode, ENTER to escape\n",
    "#use pip install right from the notebook!"
   ]
  },
  {
   "cell_type": "code",
   "execution_count": null,
   "id": "intermediate-israeli",
   "metadata": {},
   "outputs": [
    {
     "name": "stdout",
     "output_type": "stream",
     "text": [
      "Collecting pydataset\n",
      "  Downloading pydataset-0.2.0.tar.gz (15.9 MB)\n",
      "\u001b[K     |████████████████████████████████| 15.9 MB 408 kB/s eta 0:00:01     |██████████████████████████████▋ | 15.3 MB 127 kB/s eta 0:00:06\n",
      "\u001b[?25hRequirement already satisfied: pandas in /Users/stevennewton/opt/anaconda3/lib/python3.8/site-packages (from pydataset) (1.2.2)\n",
      "Requirement already satisfied: python-dateutil>=2.7.3 in /Users/stevennewton/opt/anaconda3/lib/python3.8/site-packages (from pandas->pydataset) (2.8.1)\n",
      "Requirement already satisfied: pytz>=2017.3 in /Users/stevennewton/opt/anaconda3/lib/python3.8/site-packages (from pandas->pydataset) (2021.1)\n",
      "Requirement already satisfied: numpy>=1.16.5 in /Users/stevennewton/opt/anaconda3/lib/python3.8/site-packages (from pandas->pydataset) (1.19.2)\n",
      "Requirement already satisfied: six>=1.5 in /Users/stevennewton/opt/anaconda3/lib/python3.8/site-packages (from python-dateutil>=2.7.3->pandas->pydataset) (1.15.0)\n",
      "Building wheels for collected packages: pydataset\n",
      "  Building wheel for pydataset (setup.py) ... \u001b[?25ldone\n",
      "\u001b[?25h  Created wheel for pydataset: filename=pydataset-0.2.0-py3-none-any.whl size=15939431 sha256=5f029b797e1170e1226c68b2244c100b054d818dbeee1f4db8c2beba407c7b97\n",
      "  Stored in directory: /Users/stevennewton/Library/Caches/pip/wheels/d7/e5/36/85d319586b4a405d001029d489102f526ce5546248c295932a\n",
      "Successfully built pydataset\n",
      "Installing collected packages: pydataset\n",
      "Successfully installed pydataset-0.2.0\n"
     ]
    }
   ],
   "source": [
    "pip install pydataset"
   ]
  },
  {
   "cell_type": "code",
   "execution_count": null,
   "id": "advised-zealand",
   "metadata": {},
   "outputs": [],
   "source": []
  }
 ],
 "metadata": {
  "kernelspec": {
   "display_name": "Python 3",
   "language": "python",
   "name": "python3"
  },
  "language_info": {
   "codemirror_mode": {
    "name": "ipython",
    "version": 3
   },
   "file_extension": ".py",
   "mimetype": "text/x-python",
   "name": "python",
   "nbconvert_exporter": "python",
   "pygments_lexer": "ipython3",
   "version": "3.8.5"
  }
 },
 "nbformat": 4,
 "nbformat_minor": 5
}
